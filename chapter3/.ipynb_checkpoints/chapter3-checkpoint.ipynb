{
 "cells": [
  {
   "cell_type": "markdown",
   "metadata": {},
   "source": [
    "# 第3章 分類問題\n",
    "# -- 機械学習ライブラリscikit-learnの活用\n",
    "\n",
    "- ロジスティック回帰、サポートベクトルマシン、決定木\n",
    "- scikit-learn　機械学習ライブラリに基づく例と説明。\n",
    "- 線形、非線形の決定領域を持つ分類機の長所と短所\n"
   ]
  },
  {
   "cell_type": "markdown",
   "metadata": {},
   "source": [
    "# 3.1 分類アルゴリズムの選択\n",
    "1. 特徴量を選択し、トレーニングサンプルを収集\n",
    "1. 性能指標を選択\n",
    "1. 分類機と最適化アルゴリズムを選択する\n",
    "1. モデルの性能評価\n",
    "1. アルゴリズムを調整\n",
    "\n"
   ]
  },
  {
   "cell_type": "markdown",
   "metadata": {},
   "source": [
    "# 3.2 scikit-learn活用へのファーストステップ\n",
    "# パーセプトロンのトレーニング\n"
   ]
  },
  {
   "cell_type": "markdown",
   "metadata": {},
   "source": [
    "- 全章\n",
    "  - パーセプトロン\n",
    "  - ADALINE\n",
    "- この章\n",
    "  - scikit-learnのAPI\n",
    "  - さまざまな分類アルゴリズム"
   ]
  },
  {
   "cell_type": "markdown",
   "metadata": {},
   "source": [
    "#### sklearnのデータセットから Irisデータセットをロード"
   ]
  },
  {
   "cell_type": "code",
   "execution_count": 62,
   "metadata": {},
   "outputs": [
    {
     "name": "stdout",
     "output_type": "stream",
     "text": [
      "Class labels:  [0 1 2]\n",
      "0: Iris-setosa, 1: Iris-versicolor, 2: Iris-virginica\n"
     ]
    }
   ],
   "source": [
    "from sklearn import datasets\n",
    "import numpy as np\n",
    "\n",
    "# Iris データセットをロード\n",
    "iris = datasets.load_iris()\n",
    "# 3, 4列目の特徴量を抽出　　「萼片の長さ」「花びらの長さ」\n",
    "X = iris.data[:, [2, 3]]\n",
    "# 品種のクラスラベルを取得\n",
    "y = iris.target\n",
    "# 一意なクラスラベルを出力\n",
    "print ('Class labels: ', np.unique(y))\n",
    "print('0: Iris-setosa, 1: Iris-versicolor, 2: Iris-virginica')\n",
    "# print(X)\n",
    "# print(y)"
   ]
  },
  {
   "cell_type": "markdown",
   "metadata": {},
   "source": [
    "#### トレーニングデータとテストデータに分割する"
   ]
  },
  {
   "cell_type": "code",
   "execution_count": 63,
   "metadata": {},
   "outputs": [],
   "source": [
    "from sklearn.model_selection import train_test_split\n",
    "# トレーニングデータとテストデータに分割\n",
    "# 全体の30%をテストデータにする 70%はトレーニングデータ\n",
    "# train_test_split関数はトレーニングセットをシャッフルする\n",
    "# random_stateは乱数シード\n",
    "# stratify=y は層化サンプリング\n",
    "X_train, X_test, y_train, y_test = train_test_split(X, y, test_size=0.3, random_state=1, stratify=y)"
   ]
  },
  {
   "cell_type": "code",
   "execution_count": 64,
   "metadata": {},
   "outputs": [
    {
     "name": "stdout",
     "output_type": "stream",
     "text": [
      "[0 0 0 0 0 0 0 0 0 0 0 0 0 0 0 0 0 0 0 0 0 0 0 0 0 0 0 0 0 0 0 0 0 0 0 0 0\n",
      " 0 0 0 0 0 0 0 0 0 0 0 0 0 1 1 1 1 1 1 1 1 1 1 1 1 1 1 1 1 1 1 1 1 1 1 1 1\n",
      " 1 1 1 1 1 1 1 1 1 1 1 1 1 1 1 1 1 1 1 1 1 1 1 1 1 1 2 2 2 2 2 2 2 2 2 2 2\n",
      " 2 2 2 2 2 2 2 2 2 2 2 2 2 2 2 2 2 2 2 2 2 2 2 2 2 2 2 2 2 2 2 2 2 2 2 2 2\n",
      " 2 2]\n",
      "Labels counts in y:  [50 50 50] \n",
      "\n",
      "[0 0 2 2 0 2 2 0 2 1 1 1 0 1 1 2 0 1 1 0 2 2 1 1 1 2 1 2 2 2 1 0 2 2 2 2 1\n",
      " 2 2 0 2 0 2 0 0 1 0 0 2 1 0 1 1 0 0 0 1 2 0 1 0 1 2 0 0 1 2 1 1 1 2 1 1 2\n",
      " 2 1 0 0 2 1 2 2 0 1 2 2 0 0 2 0 2 1 1 1 0 2 1 0 0 1 0 1 0 0 0]\n",
      "Labels counts in y_train:  [35 35 35] \n",
      "\n",
      "[2 0 0 2 1 1 2 1 2 0 0 2 0 1 0 1 2 1 1 2 2 0 1 2 1 1 1 2 0 2 0 0 1 1 2 2 0\n",
      " 0 0 1 2 2 1 0 0]\n",
      "Labels counts in y_test:  [15 15 15] \n",
      "\n"
     ]
    }
   ],
   "source": [
    "# stratifyによってトレーニングサブセットとテストサブセットのクラスラベルの比率が\n",
    "# 入力データセットと同じであるか確認してみる\n",
    "print(y)\n",
    "print('Labels counts in y: ', np.bincount(y), '\\n')\n",
    "\n",
    "print(y_train)\n",
    "print('Labels counts in y_train: ', np.bincount(y_train), '\\n')\n",
    "\n",
    "print(y_test)\n",
    "print('Labels counts in y_test: ', np.bincount(y_test), '\\n')"
   ]
  },
  {
   "cell_type": "markdown",
   "metadata": {},
   "source": [
    "#### 特徴量の標準化"
   ]
  },
  {
   "cell_type": "code",
   "execution_count": 65,
   "metadata": {},
   "outputs": [
    {
     "name": "stdout",
     "output_type": "stream",
     "text": [
      "[[ 1.4  0.2]\n",
      " [ 1.7  0.2]\n",
      " [ 5.3  2.3]\n",
      " [ 5.7  2.1]\n",
      " [ 1.2  0.2]\n",
      " [ 5.6  2.4]\n",
      " [ 6.6  2.1]\n",
      " [ 1.2  0.2]\n",
      " [ 5.8  1.6]\n",
      " [ 4.6  1.3]\n",
      " [ 3.3  1. ]\n",
      " [ 3.9  1.4]\n",
      " [ 1.3  0.2]\n",
      " [ 4.7  1.2]\n",
      " [ 4.   1.3]\n",
      " [ 5.1  1.9]\n",
      " [ 1.9  0.2]\n",
      " [ 3.5  1. ]\n",
      " [ 3.9  1.2]\n",
      " [ 1.6  0.2]\n",
      " [ 4.8  1.8]\n",
      " [ 6.9  2.3]\n",
      " [ 4.5  1.5]\n",
      " [ 4.5  1.3]\n",
      " [ 3.8  1.1]\n",
      " [ 5.6  2.4]\n",
      " [ 4.7  1.4]\n",
      " [ 5.6  1.4]\n",
      " [ 5.8  2.2]\n",
      " [ 5.1  2.4]\n",
      " [ 4.1  1.3]\n",
      " [ 1.5  0.4]\n",
      " [ 6.7  2.2]\n",
      " [ 5.   1.9]\n",
      " [ 4.8  1.8]\n",
      " [ 5.6  2.1]\n",
      " [ 4.2  1.5]\n",
      " [ 6.7  2. ]\n",
      " [ 5.5  1.8]\n",
      " [ 1.6  0.2]\n",
      " [ 4.9  1.8]\n",
      " [ 1.4  0.2]\n",
      " [ 5.1  1.5]\n",
      " [ 1.9  0.4]\n",
      " [ 1.   0.2]\n",
      " [ 4.9  1.5]\n",
      " [ 1.5  0.1]\n",
      " [ 1.1  0.1]\n",
      " [ 5.5  1.8]\n",
      " [ 4.7  1.5]\n",
      " [ 1.7  0.3]\n",
      " [ 3.5  1. ]\n",
      " [ 4.1  1. ]\n",
      " [ 1.5  0.2]\n",
      " [ 1.5  0.2]\n",
      " [ 1.5  0.2]\n",
      " [ 3.7  1. ]\n",
      " [ 6.1  2.5]\n",
      " [ 1.3  0.3]\n",
      " [ 4.9  1.5]\n",
      " [ 1.3  0.2]\n",
      " [ 4.5  1.6]\n",
      " [ 6.   1.8]\n",
      " [ 1.6  0.2]\n",
      " [ 1.4  0.2]\n",
      " [ 4.4  1.2]\n",
      " [ 5.1  1.9]\n",
      " [ 3.6  1.3]\n",
      " [ 4.1  1.3]\n",
      " [ 4.8  1.8]\n",
      " [ 6.1  2.3]\n",
      " [ 4.5  1.5]\n",
      " [ 4.5  1.5]\n",
      " [ 5.4  2.1]\n",
      " [ 5.6  2.2]\n",
      " [ 4.6  1.4]\n",
      " [ 1.5  0.4]\n",
      " [ 1.7  0.5]\n",
      " [ 6.1  1.9]\n",
      " [ 5.1  1.6]\n",
      " [ 6.4  2. ]\n",
      " [ 5.   1.5]\n",
      " [ 1.5  0.2]\n",
      " [ 4.2  1.3]\n",
      " [ 5.1  2. ]\n",
      " [ 6.   2.5]\n",
      " [ 1.5  0.3]\n",
      " [ 1.4  0.2]\n",
      " [ 5.6  1.8]\n",
      " [ 1.4  0.3]\n",
      " [ 5.9  2.3]\n",
      " [ 3.9  1.1]\n",
      " [ 4.2  1.2]\n",
      " [ 4.3  1.3]\n",
      " [ 1.5  0.1]\n",
      " [ 5.2  2.3]\n",
      " [ 4.4  1.3]\n",
      " [ 1.3  0.2]\n",
      " [ 1.4  0.3]\n",
      " [ 5.   1.7]\n",
      " [ 1.3  0.3]\n",
      " [ 4.   1.2]\n",
      " [ 1.6  0.4]\n",
      " [ 1.5  0.2]\n",
      " [ 1.3  0.2]] \n",
      "\n",
      "\n",
      "[[-1.33269725 -1.30380366]\n",
      " [-1.16537974 -1.30380366]\n",
      " [ 0.84243039  1.44465434]\n",
      " [ 1.0655204   1.18289644]\n",
      " [-1.44424226 -1.30380366]\n",
      " [ 1.0097479   1.57553329]\n",
      " [ 1.56747294  1.18289644]\n",
      " [-1.44424226 -1.30380366]\n",
      " [ 1.12129291  0.52850167]\n",
      " [ 0.45202286  0.13586482]\n",
      " [-0.27301968 -0.25677204]\n",
      " [ 0.06161534  0.26674377]\n",
      " [-1.38846976 -1.30380366]\n",
      " [ 0.50779537  0.00498586]\n",
      " [ 0.11738784  0.13586482]\n",
      " [ 0.73088538  0.92113853]\n",
      " [-1.05383474 -1.30380366]\n",
      " [-0.16147468 -0.25677204]\n",
      " [ 0.06161534  0.00498586]\n",
      " [-1.22115225 -1.30380366]\n",
      " [ 0.56356787  0.79025958]\n",
      " [ 1.73479045  1.44465434]\n",
      " [ 0.39625036  0.39762272]\n",
      " [ 0.39625036  0.13586482]\n",
      " [ 0.00584283 -0.12589309]\n",
      " [ 1.0097479   1.57553329]\n",
      " [ 0.50779537  0.26674377]\n",
      " [ 1.0097479   0.26674377]\n",
      " [ 1.12129291  1.31377539]\n",
      " [ 0.73088538  1.57553329]\n",
      " [ 0.17316034  0.13586482]\n",
      " [-1.27692475 -1.04204575]\n",
      " [ 1.62324544  1.31377539]\n",
      " [ 0.67511288  0.92113853]\n",
      " [ 0.56356787  0.79025958]\n",
      " [ 1.0097479   1.18289644]\n",
      " [ 0.22893285  0.39762272]\n",
      " [ 1.62324544  1.05201748]\n",
      " [ 0.9539754   0.79025958]\n",
      " [-1.22115225 -1.30380366]\n",
      " [ 0.61934037  0.79025958]\n",
      " [-1.33269725 -1.30380366]\n",
      " [ 0.73088538  0.39762272]\n",
      " [-1.05383474 -1.04204575]\n",
      " [-1.55578727 -1.30380366]\n",
      " [ 0.61934037  0.39762272]\n",
      " [-1.27692475 -1.43468261]\n",
      " [-1.50001477 -1.43468261]\n",
      " [ 0.9539754   0.79025958]\n",
      " [ 0.50779537  0.39762272]\n",
      " [-1.16537974 -1.17292471]\n",
      " [-0.16147468 -0.25677204]\n",
      " [ 0.17316034 -0.25677204]\n",
      " [-1.27692475 -1.30380366]\n",
      " [-1.27692475 -1.30380366]\n",
      " [-1.27692475 -1.30380366]\n",
      " [-0.04992967 -0.25677204]\n",
      " [ 1.28861042  1.70641225]\n",
      " [-1.38846976 -1.17292471]\n",
      " [ 0.61934037  0.39762272]\n",
      " [-1.38846976 -1.30380366]\n",
      " [ 0.39625036  0.52850167]\n",
      " [ 1.23283791  0.79025958]\n",
      " [-1.22115225 -1.30380366]\n",
      " [-1.33269725 -1.30380366]\n",
      " [ 0.34047786  0.00498586]\n",
      " [ 0.73088538  0.92113853]\n",
      " [-0.10570217  0.13586482]\n",
      " [ 0.17316034  0.13586482]\n",
      " [ 0.56356787  0.79025958]\n",
      " [ 1.28861042  1.44465434]\n",
      " [ 0.39625036  0.39762272]\n",
      " [ 0.39625036  0.39762272]\n",
      " [ 0.89820289  1.18289644]\n",
      " [ 1.0097479   1.31377539]\n",
      " [ 0.45202286  0.26674377]\n",
      " [-1.27692475 -1.04204575]\n",
      " [-1.16537974 -0.9111668 ]\n",
      " [ 1.28861042  0.92113853]\n",
      " [ 0.73088538  0.52850167]\n",
      " [ 1.45592793  1.05201748]\n",
      " [ 0.67511288  0.39762272]\n",
      " [-1.27692475 -1.30380366]\n",
      " [ 0.22893285  0.13586482]\n",
      " [ 0.73088538  1.05201748]\n",
      " [ 1.23283791  1.70641225]\n",
      " [-1.27692475 -1.17292471]\n",
      " [-1.33269725 -1.30380366]\n",
      " [ 1.0097479   0.79025958]\n",
      " [-1.33269725 -1.17292471]\n",
      " [ 1.17706541  1.44465434]\n",
      " [ 0.06161534 -0.12589309]\n",
      " [ 0.22893285  0.00498586]\n",
      " [ 0.28470535  0.13586482]\n",
      " [-1.27692475 -1.43468261]\n",
      " [ 0.78665788  1.44465434]\n",
      " [ 0.34047786  0.13586482]\n",
      " [-1.38846976 -1.30380366]\n",
      " [-1.33269725 -1.17292471]\n",
      " [ 0.67511288  0.65938063]\n",
      " [-1.38846976 -1.17292471]\n",
      " [ 0.11738784  0.00498586]\n",
      " [-1.22115225 -1.04204575]\n",
      " [-1.27692475 -1.30380366]\n",
      " [-1.38846976 -1.30380366]] \n",
      "\n",
      "\n",
      "[[ 0.89820289  1.44465434]\n",
      " [-1.16537974 -1.04204575]\n",
      " [-1.33269725 -1.17292471]\n",
      " [ 0.39625036  0.65938063]\n",
      " [ 0.34047786  0.26674377]\n",
      " [ 0.11738784  0.13586482]\n",
      " [ 1.12129291  0.79025958]\n",
      " [ 0.39625036  0.39762272]\n",
      " [ 0.84243039  0.92113853]\n",
      " [-1.38846976 -1.04204575]\n",
      " [-1.27692475 -1.04204575]\n",
      " [ 0.61934037  0.79025958]\n",
      " [-1.33269725 -1.30380366]\n",
      " [-0.27301968 -0.25677204]\n",
      " [-1.33269725 -1.30380366]\n",
      " [ 0.56356787  0.26674377]\n",
      " [ 0.73088538  1.44465434]\n",
      " [ 0.39625036  0.39762272]\n",
      " [ 0.28470535  0.13586482]\n",
      " [ 0.78665788  1.05201748]\n",
      " [ 1.17706541  1.18289644]\n",
      " [-1.33269725 -1.43468261]\n",
      " [ 0.34047786  0.26674377]\n",
      " [ 0.61934037  1.05201748]\n",
      " [ 0.22893285  0.13586482]\n",
      " [ 0.50779537  0.52850167]\n",
      " [-0.4403372  -0.12589309]\n",
      " [ 1.0655204   1.70641225]\n",
      " [-1.22115225 -0.78028785]\n",
      " [ 0.67511288  1.05201748]\n",
      " [-1.22115225 -1.30380366]\n",
      " [-1.33269725 -1.30380366]\n",
      " [ 0.11738784 -0.25677204]\n",
      " [ 0.11738784  0.13586482]\n",
      " [ 1.40015543  0.79025958]\n",
      " [ 0.9539754   1.18289644]\n",
      " [-1.27692475 -1.43468261]\n",
      " [-1.22115225 -1.30380366]\n",
      " [-1.33269725 -1.30380366]\n",
      " [ 0.50779537  0.26674377]\n",
      " [ 1.0655204   1.44465434]\n",
      " [ 0.73088538  0.79025958]\n",
      " [ 0.45202286  0.39762272]\n",
      " [-1.27692475 -1.30380366]\n",
      " [-1.27692475 -1.43468261]] \n",
      "\n",
      "\n"
     ]
    }
   ],
   "source": [
    "from sklearn.preprocessing import StandardScaler\n",
    "sc = StandardScaler()\n",
    "\n",
    "print(X_train, \"\\n\\n\")\n",
    "# トレーニングデータの平均と標準偏差を計算\n",
    "sc.fit(X_train)\n",
    "\n",
    "# 平均と標準偏差を用いて標準化\n",
    "X_train_std = sc.transform(X_train)\n",
    "X_test_std = sc.transform(X_test)\n",
    "print(X_train_std, \"\\n\\n\")\n",
    "print(X_test_std, \"\\n\\n\")"
   ]
  },
  {
   "cell_type": "markdown",
   "metadata": {},
   "source": [
    "#### トレーニング"
   ]
  },
  {
   "cell_type": "code",
   "execution_count": 66,
   "metadata": {},
   "outputs": [
    {
     "data": {
      "text/plain": [
       "Perceptron(alpha=0.0001, class_weight=None, eta0=0.1, fit_intercept=True,\n",
       "      n_iter=40, n_jobs=1, penalty=None, random_state=1, shuffle=True,\n",
       "      verbose=0, warm_start=False)"
      ]
     },
     "execution_count": 66,
     "metadata": {},
     "output_type": "execute_result"
    }
   ],
   "source": [
    "from sklearn.linear_model import Perceptron\n",
    "# エポック数 40, 学習率 0.1 で Perceptron のインスタンスを作成\n",
    "ppn = Perceptron(n_iter=40, eta0=0.1, random_state=1)\n",
    "# トレーニングデータをモデルに適合させる\n",
    "ppn.fit(X_train_std, y_train)"
   ]
  },
  {
   "cell_type": "markdown",
   "metadata": {},
   "source": [
    "#### 予測"
   ]
  },
  {
   "cell_type": "code",
   "execution_count": 67,
   "metadata": {},
   "outputs": [
    {
     "name": "stdout",
     "output_type": "stream",
     "text": [
      "Misclassified samples: 3\n",
      "y_test:  45\n",
      "y_pred:  42\n"
     ]
    }
   ],
   "source": [
    "# テストデータで予測を実施\n",
    "y_pred = ppn.predict(X_test_std)\n",
    "# 誤分類のサンプル個数を表示\n",
    "print('Misclassified samples: %d' % (y_test != y_pred).sum())\n",
    "print('y_test: ', y_test.sum())\n",
    "print('y_pred: ', y_pred.sum())"
   ]
  },
  {
   "cell_type": "code",
   "execution_count": 68,
   "metadata": {},
   "outputs": [
    {
     "name": "stdout",
     "output_type": "stream",
     "text": [
      "Accuracy: 0.93\n"
     ]
    }
   ],
   "source": [
    "from sklearn.metrics import accuracy_score\n",
    "# 分類の正解率を表示\n",
    "print('Accuracy: %.2f' % accuracy_score(y_test, y_pred))"
   ]
  },
  {
   "cell_type": "markdown",
   "metadata": {},
   "source": [
    "#### 決定領域のプロット"
   ]
  },
  {
   "cell_type": "code",
   "execution_count": 69,
   "metadata": {
    "collapsed": true
   },
   "outputs": [],
   "source": [
    "from matplotlib.colors import ListedColormap\n",
    "import matplotlib.pyplot as plt\n",
    "\n",
    "\n",
    "def plot_decision_regions(X, y, classifier, test_idx=None, resolution=0.02):\n",
    "\n",
    "    # マーカーとカラーマップの設定\n",
    "    markers = ('s', 'x', 'o', '^', 'v')\n",
    "    colors = ('red', 'blue', 'lightgreen', 'gray', 'cyan')\n",
    "    cmap = ListedColormap(colors[:len(np.unique(y))])\n",
    "\n",
    "    # 決定領域のプロット\n",
    "    x1_min, x1_max = X[:, 0].min() - 1, X[:, 0].max() + 1\n",
    "    x2_min, x2_max = X[:, 1].min() - 1, X[:, 1].max() + 1\n",
    "    # グリッドポイントの生成\n",
    "    xx1, xx2 = np.meshgrid(np.arange(x1_min, x1_max, resolution),\n",
    "                           np.arange(x2_min, x2_max, resolution))\n",
    "    # 各特徴量を１次元配列に変換して予測を実行\n",
    "    Z = classifier.predict(np.array([xx1.ravel(), xx2.ravel()]).T)\n",
    "    # 予測結果を元にグリッドポイントのデータサイズに変換\n",
    "    Z = Z.reshape(xx1.shape)\n",
    "    # グリッドポイントの等高線のプロット\n",
    "    plt.contourf(xx1, xx2, Z, alpha=0.3, cmap=cmap)\n",
    "    plt.xlim(xx1.min(), xx1.max())\n",
    "    plt.ylim(xx2.min(), xx2.max())\n",
    "\n",
    "    # クラスごとにサンプルをプロット\n",
    "    for idx, cl in enumerate(np.unique(y)):\n",
    "        plt.scatter(x=X[y == cl, 0], \n",
    "                    y=X[y == cl, 1],\n",
    "                    alpha=0.8, \n",
    "                    c=colors[idx],\n",
    "                    marker=markers[idx], \n",
    "                    label=cl, \n",
    "                    edgecolor='black')\n",
    "\n",
    "    # テストサンプルを目立たせる（点を◯で表示）\n",
    "    if test_idx:\n",
    "        X_test, y_test = X[test_idx, :], y[test_idx]\n",
    "\n",
    "        plt.scatter(X_test[:, 0],\n",
    "                    X_test[:, 1],\n",
    "                    c='',\n",
    "                    edgecolor='black',\n",
    "                    alpha=1.0,\n",
    "                    linewidth=1,\n",
    "                    marker='o',\n",
    "                    s=100, \n",
    "                    label='test set')"
   ]
  },
  {
   "cell_type": "code",
   "execution_count": 70,
   "metadata": {},
   "outputs": [
    {
     "ename": "ValueError",
     "evalue": "left cannot be >= right",
     "output_type": "error",
     "traceback": [
      "\u001b[0;31m---------------------------------------------------------------------------\u001b[0m",
      "\u001b[0;31mValueError\u001b[0m                                Traceback (most recent call last)",
      "\u001b[0;32m<ipython-input-70-e28ad2299874>\u001b[0m in \u001b[0;36m<module>\u001b[0;34m()\u001b[0m\n\u001b[1;32m     11\u001b[0m \u001b[0mplt\u001b[0m\u001b[0;34m.\u001b[0m\u001b[0mylabel\u001b[0m\u001b[0;34m(\u001b[0m\u001b[0;34m'petal width [standardized]'\u001b[0m\u001b[0;34m)\u001b[0m\u001b[0;34m\u001b[0m\u001b[0m\n\u001b[1;32m     12\u001b[0m \u001b[0mplt\u001b[0m\u001b[0;34m.\u001b[0m\u001b[0mlegend\u001b[0m\u001b[0;34m(\u001b[0m\u001b[0mloc\u001b[0m\u001b[0;34m=\u001b[0m\u001b[0;34m'upper left'\u001b[0m\u001b[0;34m)\u001b[0m\u001b[0;34m\u001b[0m\u001b[0m\n\u001b[0;32m---> 13\u001b[0;31m \u001b[0mplt\u001b[0m\u001b[0;34m.\u001b[0m\u001b[0mtight_layout\u001b[0m\u001b[0;34m(\u001b[0m\u001b[0;34m)\u001b[0m\u001b[0;34m\u001b[0m\u001b[0m\n\u001b[0m\u001b[1;32m     14\u001b[0m \u001b[0;34m\u001b[0m\u001b[0m\n\u001b[1;32m     15\u001b[0m \u001b[0mplt\u001b[0m\u001b[0;34m.\u001b[0m\u001b[0mtight_layout\u001b[0m\u001b[0;34m(\u001b[0m\u001b[0;34m)\u001b[0m\u001b[0;34m\u001b[0m\u001b[0m\n",
      "\u001b[0;32m~/work/ml/myml/env/lib/python3.5/site-packages/matplotlib/pyplot.py\u001b[0m in \u001b[0;36mtight_layout\u001b[0;34m(pad, h_pad, w_pad, rect)\u001b[0m\n\u001b[1;32m   1404\u001b[0m \u001b[0;34m\u001b[0m\u001b[0m\n\u001b[1;32m   1405\u001b[0m     \u001b[0mfig\u001b[0m \u001b[0;34m=\u001b[0m \u001b[0mgcf\u001b[0m\u001b[0;34m(\u001b[0m\u001b[0;34m)\u001b[0m\u001b[0;34m\u001b[0m\u001b[0m\n\u001b[0;32m-> 1406\u001b[0;31m     \u001b[0mfig\u001b[0m\u001b[0;34m.\u001b[0m\u001b[0mtight_layout\u001b[0m\u001b[0;34m(\u001b[0m\u001b[0mpad\u001b[0m\u001b[0;34m=\u001b[0m\u001b[0mpad\u001b[0m\u001b[0;34m,\u001b[0m \u001b[0mh_pad\u001b[0m\u001b[0;34m=\u001b[0m\u001b[0mh_pad\u001b[0m\u001b[0;34m,\u001b[0m \u001b[0mw_pad\u001b[0m\u001b[0;34m=\u001b[0m\u001b[0mw_pad\u001b[0m\u001b[0;34m,\u001b[0m \u001b[0mrect\u001b[0m\u001b[0;34m=\u001b[0m\u001b[0mrect\u001b[0m\u001b[0;34m)\u001b[0m\u001b[0;34m\u001b[0m\u001b[0m\n\u001b[0m\u001b[1;32m   1407\u001b[0m \u001b[0;34m\u001b[0m\u001b[0m\n\u001b[1;32m   1408\u001b[0m \u001b[0;34m\u001b[0m\u001b[0m\n",
      "\u001b[0;32m~/work/ml/myml/env/lib/python3.5/site-packages/matplotlib/figure.py\u001b[0m in \u001b[0;36mtight_layout\u001b[0;34m(self, renderer, pad, h_pad, w_pad, rect)\u001b[0m\n\u001b[1;32m   1753\u001b[0m                                          rect=rect)\n\u001b[1;32m   1754\u001b[0m \u001b[0;34m\u001b[0m\u001b[0m\n\u001b[0;32m-> 1755\u001b[0;31m         \u001b[0mself\u001b[0m\u001b[0;34m.\u001b[0m\u001b[0msubplots_adjust\u001b[0m\u001b[0;34m(\u001b[0m\u001b[0;34m**\u001b[0m\u001b[0mkwargs\u001b[0m\u001b[0;34m)\u001b[0m\u001b[0;34m\u001b[0m\u001b[0m\n\u001b[0m\u001b[1;32m   1756\u001b[0m \u001b[0;34m\u001b[0m\u001b[0m\n\u001b[1;32m   1757\u001b[0m \u001b[0;34m\u001b[0m\u001b[0m\n",
      "\u001b[0;32m~/work/ml/myml/env/lib/python3.5/site-packages/matplotlib/figure.py\u001b[0m in \u001b[0;36msubplots_adjust\u001b[0;34m(self, *args, **kwargs)\u001b[0m\n\u001b[1;32m   1618\u001b[0m \u001b[0;34m\u001b[0m\u001b[0m\n\u001b[1;32m   1619\u001b[0m         \"\"\"\n\u001b[0;32m-> 1620\u001b[0;31m         \u001b[0mself\u001b[0m\u001b[0;34m.\u001b[0m\u001b[0msubplotpars\u001b[0m\u001b[0;34m.\u001b[0m\u001b[0mupdate\u001b[0m\u001b[0;34m(\u001b[0m\u001b[0;34m*\u001b[0m\u001b[0margs\u001b[0m\u001b[0;34m,\u001b[0m \u001b[0;34m**\u001b[0m\u001b[0mkwargs\u001b[0m\u001b[0;34m)\u001b[0m\u001b[0;34m\u001b[0m\u001b[0m\n\u001b[0m\u001b[1;32m   1621\u001b[0m         \u001b[0;32mfor\u001b[0m \u001b[0max\u001b[0m \u001b[0;32min\u001b[0m \u001b[0mself\u001b[0m\u001b[0;34m.\u001b[0m\u001b[0maxes\u001b[0m\u001b[0;34m:\u001b[0m\u001b[0;34m\u001b[0m\u001b[0m\n\u001b[1;32m   1622\u001b[0m             \u001b[0;32mif\u001b[0m \u001b[0;32mnot\u001b[0m \u001b[0misinstance\u001b[0m\u001b[0;34m(\u001b[0m\u001b[0max\u001b[0m\u001b[0;34m,\u001b[0m \u001b[0mSubplotBase\u001b[0m\u001b[0;34m)\u001b[0m\u001b[0;34m:\u001b[0m\u001b[0;34m\u001b[0m\u001b[0m\n",
      "\u001b[0;32m~/work/ml/myml/env/lib/python3.5/site-packages/matplotlib/figure.py\u001b[0m in \u001b[0;36mupdate\u001b[0;34m(self, left, bottom, right, top, wspace, hspace)\u001b[0m\n\u001b[1;32m    226\u001b[0m             \u001b[0;32mif\u001b[0m \u001b[0mself\u001b[0m\u001b[0;34m.\u001b[0m\u001b[0mleft\u001b[0m \u001b[0;34m>=\u001b[0m \u001b[0mself\u001b[0m\u001b[0;34m.\u001b[0m\u001b[0mright\u001b[0m\u001b[0;34m:\u001b[0m\u001b[0;34m\u001b[0m\u001b[0m\n\u001b[1;32m    227\u001b[0m                 \u001b[0mreset\u001b[0m\u001b[0;34m(\u001b[0m\u001b[0;34m)\u001b[0m\u001b[0;34m\u001b[0m\u001b[0m\n\u001b[0;32m--> 228\u001b[0;31m                 \u001b[0;32mraise\u001b[0m \u001b[0mValueError\u001b[0m\u001b[0;34m(\u001b[0m\u001b[0;34m'left cannot be >= right'\u001b[0m\u001b[0;34m)\u001b[0m\u001b[0;34m\u001b[0m\u001b[0m\n\u001b[0m\u001b[1;32m    229\u001b[0m \u001b[0;34m\u001b[0m\u001b[0m\n\u001b[1;32m    230\u001b[0m             \u001b[0;32mif\u001b[0m \u001b[0mself\u001b[0m\u001b[0;34m.\u001b[0m\u001b[0mbottom\u001b[0m \u001b[0;34m>=\u001b[0m \u001b[0mself\u001b[0m\u001b[0;34m.\u001b[0m\u001b[0mtop\u001b[0m\u001b[0;34m:\u001b[0m\u001b[0;34m\u001b[0m\u001b[0m\n",
      "\u001b[0;31mValueError\u001b[0m: left cannot be >= right"
     ]
    }
   ],
   "source": [
    "# トレーニングデータとテストデータの特徴量を行方向に結合\n",
    "X_combined_std = np.vstack((X_train_std, X_test_std))\n",
    "# トレーニングデータとテストデータのクラスラベルを結合\n",
    "y_combined = np.hstack((y_train, y_test))\n",
    "# 決定境界のプロット\n",
    "plot_decision_regions(X=X_combined_std, y=y_combined,\n",
    "                      classifier=ppn, test_idx=range(105, 150))\n",
    "\n",
    "# 設定\n",
    "plt.xlabel('petal length [standardized]')\n",
    "plt.ylabel('petal width [standardized]')\n",
    "plt.legend(loc='upper left')\n",
    "plt.tight_layout()\n",
    "\n",
    "plt.tight_layout()\n",
    "plt.show()"
   ]
  },
  {
   "cell_type": "markdown",
   "metadata": {},
   "source": [
    "# 3.3 ロジスティック回帰を使ってクラスの確率を予測するモデルの構築"
   ]
  },
  {
   "cell_type": "code",
   "execution_count": null,
   "metadata": {
    "collapsed": true
   },
   "outputs": [],
   "source": []
  }
 ],
 "metadata": {
  "kernelspec": {
   "display_name": "Python 3",
   "language": "python",
   "name": "python3"
  },
  "language_info": {
   "codemirror_mode": {
    "name": "ipython",
    "version": 3
   },
   "file_extension": ".py",
   "mimetype": "text/x-python",
   "name": "python",
   "nbconvert_exporter": "python",
   "pygments_lexer": "ipython3",
   "version": "3.5.1"
  }
 },
 "nbformat": 4,
 "nbformat_minor": 2
}
