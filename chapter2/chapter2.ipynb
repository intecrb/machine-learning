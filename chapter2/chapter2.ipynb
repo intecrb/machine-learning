{
 "cells": [
  {
   "cell_type": "markdown",
   "metadata": {},
   "source": [
    "# 2.3章 Iris_data_setを使用したパセープトロンモデルのトレーニング\n"
   ]
  },
  {
   "cell_type": "markdown",
   "metadata": {},
   "source": [
    "https://github.com/rasbt/python-machine-learning-book-2nd-edition"
   ]
  },
  {
   "cell_type": "markdown",
   "metadata": {},
   "source": [
    "## 必要なpython packageをインストールするには ! をつけてpip installしてください。"
   ]
  },
  {
   "cell_type": "markdown",
   "metadata": {},
   "source": [
    "## Irisデータセットの読み込み\n",
    "\n",
    "以下のサイトからトレーニングデータを読み込みます。\n",
    "\n",
    "#### https://archive.ics.uci.edu/ml/datasets/iris\n"
   ]
  },
  {
   "cell_type": "code",
   "execution_count": null,
   "metadata": {},
   "outputs": [
    {
     "data": {
      "text/html": [
       "<div>\n",
       "<style>\n",
       "    .dataframe thead tr:only-child th {\n",
       "        text-align: right;\n",
       "    }\n",
       "\n",
       "    .dataframe thead th {\n",
       "        text-align: left;\n",
       "    }\n",
       "\n",
       "    .dataframe tbody tr th {\n",
       "        vertical-align: top;\n",
       "    }\n",
       "</style>\n",
       "<table border=\"1\" class=\"dataframe\">\n",
       "  <thead>\n",
       "    <tr style=\"text-align: right;\">\n",
       "      <th></th>\n",
       "      <th>0</th>\n",
       "      <th>1</th>\n",
       "      <th>2</th>\n",
       "      <th>3</th>\n",
       "      <th>4</th>\n",
       "    </tr>\n",
       "  </thead>\n",
       "  <tbody>\n",
       "    <tr>\n",
       "      <th>145</th>\n",
       "      <td>6.7</td>\n",
       "      <td>3.0</td>\n",
       "      <td>5.2</td>\n",
       "      <td>2.3</td>\n",
       "      <td>Iris-virginica</td>\n",
       "    </tr>\n",
       "    <tr>\n",
       "      <th>146</th>\n",
       "      <td>6.3</td>\n",
       "      <td>2.5</td>\n",
       "      <td>5.0</td>\n",
       "      <td>1.9</td>\n",
       "      <td>Iris-virginica</td>\n",
       "    </tr>\n",
       "    <tr>\n",
       "      <th>147</th>\n",
       "      <td>6.5</td>\n",
       "      <td>3.0</td>\n",
       "      <td>5.2</td>\n",
       "      <td>2.0</td>\n",
       "      <td>Iris-virginica</td>\n",
       "    </tr>\n",
       "    <tr>\n",
       "      <th>148</th>\n",
       "      <td>6.2</td>\n",
       "      <td>3.4</td>\n",
       "      <td>5.4</td>\n",
       "      <td>2.3</td>\n",
       "      <td>Iris-virginica</td>\n",
       "    </tr>\n",
       "    <tr>\n",
       "      <th>149</th>\n",
       "      <td>5.9</td>\n",
       "      <td>3.0</td>\n",
       "      <td>5.1</td>\n",
       "      <td>1.8</td>\n",
       "      <td>Iris-virginica</td>\n",
       "    </tr>\n",
       "  </tbody>\n",
       "</table>\n",
       "</div>"
      ],
      "text/plain": [
       "       0    1    2    3               4\n",
       "145  6.7  3.0  5.2  2.3  Iris-virginica\n",
       "146  6.3  2.5  5.0  1.9  Iris-virginica\n",
       "147  6.5  3.0  5.2  2.0  Iris-virginica\n",
       "148  6.2  3.4  5.4  2.3  Iris-virginica\n",
       "149  5.9  3.0  5.1  1.8  Iris-virginica"
      ]
     },
     "execution_count": 1,
     "metadata": {},
     "output_type": "execute_result"
    }
   ],
   "source": [
    "import pandas as pd\n",
    "df = pd.read_csv('https://archive.ics.uci.edu/ml/machine-learning-databases/iris/iris.data', header=None)\n",
    "df.tail()"
   ]
  },
  {
   "cell_type": "markdown",
   "metadata": {},
   "source": [
    "## matplotlibを使用してデータをプロットする\n",
    "\n",
    "matplotlibを使用することでデータをプロットすることができます。\n",
    "ここではIris-setosaとIris-versicolorの花びらの長さと萼の長さをプロットしています。"
   ]
  },
  {
   "cell_type": "code",
   "execution_count": 2,
   "metadata": {},
   "outputs": [
    {
     "data": {
      "image/png": "[encoded data removed]",
      "text/plain": [
       "<matplotlib.figure.Figure at 0x10b618b00>"
      ]
     },
     "metadata": {},
     "output_type": "display_data"
    }
   ],
   "source": [
    "import matplotlib.pyplot as plt\n",
    "import numpy as np\n",
    "# 1-100行目の目的変数の抽出\n",
    "y = df.iloc[0:100, 4].values\n",
    "# Iris-sentosaを-1, Iris-virginicaを1に変換\n",
    "y = np.where(y == 'Iris-setosa', -1, 1)\n",
    "# 1-100行目の1, 3列目の抽出\n",
    "X = df.iloc[0:100, [0, 2]].values\n",
    "# 品種setosaのプロット（red o）\n",
    "plt.scatter(X[:50,0], X[:50,1], color='red', marker='o', label='setosa')\n",
    "# 品種versicolorのプロット（blue x）\n",
    "plt.scatter(X[50:100,0], X[50:100,1], color='blue', marker='x', label='versicolor')\n",
    "# 軸のラベルの設定\n",
    "plt.xlabel('sepal length [cm]')\n",
    "plt.ylabel('petal length [cm]')\n",
    "# 凡例の設定（左上）\n",
    "plt.legend(loc='upper left')\n",
    "# 図の表示\n",
    "plt.show()"
   ]
  },
  {
   "cell_type": "markdown",
   "metadata": {},
   "source": [
    "## パーセプトロンの分類機クラス"
   ]
  },
  {
   "cell_type": "code",
   "execution_count": 3,
   "metadata": {},
   "outputs": [],
   "source": [
    "import numpy as np\n",
    "class Perceptron(object):\n",
    "    \"\"\" パーセプトロンの分類機\n",
    "    パラメータ\n",
    "    -----------\n",
    "    eta: float\n",
    "      学習率（0.0より大きく1.0以下の値）\n",
    "    n_iter: int\n",
    "      重みを初期化するための乱数シード\n",
    "    属性\n",
    "    -----------\n",
    "    w_ : １次元配列\n",
    "      適用後の重み\n",
    "    errors: リスト\n",
    "      各エポックでの誤分類（更新）の数\n",
    "    \"\"\"\n",
    "    def __init__(self, eta=0.01, n_iter=50, random_state=1):\n",
    "        self.eta = eta\n",
    "        self.n_iter = n_iter\n",
    "        self.random_state = random_state\n",
    "\n",
    "    def fit(self, X, y):\n",
    "        \"\"\" トレーニングデータに適合させる\n",
    "        パラメータ\n",
    "        -----------\n",
    "        X: { 配列のようなデータ構造 }, shape = [n_samples, n_features]\n",
    "           トレーニングデータ\n",
    "           n_samplesはサンプルの個数, n_featuresは特徴量の個数\n",
    "        y: 配列のようなデータ構造, shape = [n_samples]\n",
    "           目的変数\n",
    "        戻り値\n",
    "        -----------\n",
    "        self: object\n",
    "        \"\"\"\n",
    "        rgen = np.random.RandomState(self.random_state)\n",
    "        self.w_ = rgen.normal(loc=0.0, scale=0.01, size=1 + X.shape[1])\n",
    "        self.errors_ = []\n",
    "\n",
    "        for _ in range(self.n_iter): # トレーニング回数分トレーニングデータを反復\n",
    "            errors = 0\n",
    "            for xi, target in zip(X, y): # 各サンプルで重みを更新\n",
    "                # 重みw1,...wmの更新\n",
    "                update = self.eta * (target - self.predict(xi))\n",
    "                self.w_[1:] += update * xi\n",
    "                # 重みw0の更新\n",
    "                self.w_[0] += update\n",
    "                # 重みの更新が 0 でない場合は誤分類としてカウント\n",
    "                errors += int(update != 0.0)\n",
    "            # 反復回数ごとの誤差を格納\n",
    "            self.errors_.append(errors)\n",
    "        return self\n",
    "\n",
    "    def net_input(self, X):\n",
    "        \"\"\" 総入力を計算 \"\"\"\n",
    "        return np.dot(X, self.w_[1:]) + self.w_[0]\n",
    "\n",
    "    def predict(self, X):\n",
    "        \"\"\" 1ステップ後のクラスラベルを返す \"\"\"\n",
    "        return np.where(self.net_input(X) >= 0.0, 1, -1)"
   ]
  },
  {
   "cell_type": "code",
   "execution_count": 4,
   "metadata": {
    "scrolled": true
   },
   "outputs": [
    {
     "data": {
      "image/png": "[encoded data removed]",
      "text/plain": [
       "<matplotlib.figure.Figure at 0x10d0256a0>"
      ]
     },
     "metadata": {},
     "output_type": "display_data"
    }
   ],
   "source": [
    "# パーセプトロンのオブジェクトの作成（インスタンス化）\n",
    "ppn = Perceptron(eta=0.1, n_iter=10)\n",
    "# トレーニングデータへのモデルの適合\n",
    "ppn.fit(X, y)\n",
    "# エポックと誤分類誤差の関係の折れ線グラフをプロット\n",
    "plt.plot(range(1, len(ppn.errors_) + 1), ppn.errors_, marker='o')\n",
    "\n",
    "plt.xlabel('Epochs')\n",
    "plt.ylabel('Number of update')\n",
    "\n",
    "plt.show()"
   ]
  },
  {
   "cell_type": "code",
   "execution_count": null,
   "metadata": {},
   "outputs": [],
   "source": []
  },
  {
   "cell_type": "code",
   "execution_count": 5,
   "metadata": {},
   "outputs": [
    {
     "name": "stdout",
     "output_type": "stream",
     "text": [
      "要素\n",
      "[[ 3.3   3.32  3.34 ...,  7.94  7.96  7.98]\n",
      " [ 3.3   3.32  3.34 ...,  7.94  7.96  7.98]\n",
      " [ 3.3   3.32  3.34 ...,  7.94  7.96  7.98]\n",
      " ..., \n",
      " [ 3.3   3.32  3.34 ...,  7.94  7.96  7.98]\n",
      " [ 3.3   3.32  3.34 ...,  7.94  7.96  7.98]\n",
      " [ 3.3   3.32  3.34 ...,  7.94  7.96  7.98]]\n",
      "[[ 0.    0.    0.   ...,  0.    0.    0.  ]\n",
      " [ 0.02  0.02  0.02 ...,  0.02  0.02  0.02]\n",
      " [ 0.04  0.04  0.04 ...,  0.04  0.04  0.04]\n",
      " ..., \n",
      " [ 6.04  6.04  6.04 ...,  6.04  6.04  6.04]\n",
      " [ 6.06  6.06  6.06 ...,  6.06  6.06  6.06]\n",
      " [ 6.08  6.08  6.08 ...,  6.08  6.08  6.08]]\n",
      "np.array([xx1.ravel(), xx2.ravel()]).T\n",
      "[[ 3.3   0.  ]\n",
      " [ 3.32  0.  ]\n",
      " [ 3.34  0.  ]\n",
      " ..., \n",
      " [ 7.94  6.08]\n",
      " [ 7.96  6.08]\n",
      " [ 7.98  6.08]]\n",
      "Z\n",
      "[-1 -1 -1 ...,  1  1  1]\n",
      "xx1\n",
      "[[ 3.3   3.32  3.34 ...,  7.94  7.96  7.98]\n",
      " [ 3.3   3.32  3.34 ...,  7.94  7.96  7.98]\n",
      " [ 3.3   3.32  3.34 ...,  7.94  7.96  7.98]\n",
      " ..., \n",
      " [ 3.3   3.32  3.34 ...,  7.94  7.96  7.98]\n",
      " [ 3.3   3.32  3.34 ...,  7.94  7.96  7.98]\n",
      " [ 3.3   3.32  3.34 ...,  7.94  7.96  7.98]]\n",
      "xx2\n",
      "[[ 0.    0.    0.   ...,  0.    0.    0.  ]\n",
      " [ 0.02  0.02  0.02 ...,  0.02  0.02  0.02]\n",
      " [ 0.04  0.04  0.04 ...,  0.04  0.04  0.04]\n",
      " ..., \n",
      " [ 6.04  6.04  6.04 ...,  6.04  6.04  6.04]\n",
      " [ 6.06  6.06  6.06 ...,  6.06  6.06  6.06]\n",
      " [ 6.08  6.08  6.08 ...,  6.08  6.08  6.08]]\n",
      "Z\n",
      "[[-1 -1 -1 ..., -1 -1 -1]\n",
      " [-1 -1 -1 ..., -1 -1 -1]\n",
      " [-1 -1 -1 ..., -1 -1 -1]\n",
      " ..., \n",
      " [ 1  1  1 ...,  1  1  1]\n",
      " [ 1  1  1 ...,  1  1  1]\n",
      " [ 1  1  1 ...,  1  1  1]]\n"
     ]
    },
    {
     "data": {
      "image/png": "[encoded data removed]",
      "text/plain": [
       "<matplotlib.figure.Figure at 0x10d0cc940>"
      ]
     },
     "metadata": {},
     "output_type": "display_data"
    }
   ],
   "source": [
    "from matplotlib.colors import ListedColormap\n",
    "def plot_decision_regions(X, y, classifier, resolution=0.02):\n",
    "\n",
    "    # setup marker generator and color map\n",
    "    markers = ('s', 'x', 'o', '^', 'v')\n",
    "    colors = ('red', 'blue', 'lightgreen', 'gray', 'cyan')\n",
    "    cmap = ListedColormap(colors[:len(np.unique(y))])\n",
    "\n",
    "    # plot the decision surface \n",
    "    x1_min, x1_max = X[:, 0].min() - 1, X[:, 0].max() + 1\n",
    "    x2_min, x2_max = X[:, 1].min() - 1, X[:, 1].max() + 1        \n",
    "    xx1, xx2 = np.meshgrid(np.arange(x1_min, x1_max, resolution),\n",
    "                           np.arange(x2_min, x2_max, resolution))\n",
    "    \n",
    "    print(\"要素\")\n",
    "    print(xx1)\n",
    "    print(xx2)\n",
    "    \n",
    "    # predict ()\n",
    "    # 転置している.T\n",
    "    # numpy.ndarray.T\n",
    "    print(\"np.array([xx1.ravel(), xx2.ravel()]).T\")\n",
    "    print(np.array([xx1.ravel(), xx2.ravel()]).T)\n",
    "    \n",
    "    Z = classifier.predict(np.array([xx1.ravel(), xx2.ravel()]).T)\n",
    "    print(\"Z\")\n",
    "    print(Z)\n",
    "    \n",
    "    print(\"xx1\")\n",
    "    print(xx1)\n",
    "    print(\"xx2\")\n",
    "    print(xx2)\n",
    "\n",
    "    \n",
    "    Z = Z.reshape(xx1.shape)\n",
    "    print(\"Z\")    \n",
    "    print(Z)\n",
    "    \n",
    "    # contourfは等高線を引く関数　alphaは色合い\n",
    "    plt.contourf(xx1, xx2, Z, alpha=0.1, cmap=cmap)\n",
    "    plt.xlim(xx1.min(), xx1.max())\n",
    "    plt.ylim(xx2.min(), xx2.max())\n",
    "\n",
    "    # plot class samples（クラスのサンプルをプロット）\n",
    "    for idx, cl in enumerate(np.unique(y)):\n",
    "        plt.scatter(x=X[y == cl, 0], \n",
    "                    y=X[y == cl, 1],\n",
    "                    alpha=0.8, \n",
    "                    c=colors[idx],\n",
    "                    marker=markers[idx], \n",
    "                    label=cl, \n",
    "                    edgecolor='black')\n",
    "\n",
    "\n",
    "\n",
    "\n",
    "plot_decision_regions(X, y, classifier=ppn)\n",
    "plt.xlabel('sepal length [cm]')\n",
    "plt.ylabel('petal length [cm]')\n",
    "plt.legend(loc='upper left')\n",
    "\n",
    "\n",
    "# plt.savefig('images/02_08.png', dpi=300)\n",
    "plt.show()\n"
   ]
  },
  {
   "cell_type": "markdown",
   "metadata": {
    "collapsed": true
   },
   "source": [
    "## 2次元データセットの決定境界を可視化するための便利な関数"
   ]
  },
  {
   "cell_type": "markdown",
   "metadata": {
    "heading_collapsed": true
   },
   "source": [
    "# 2.4 ADALINEと学習の収束"
   ]
  },
  {
   "cell_type": "code",
   "execution_count": 6,
   "metadata": {
    "hidden": true
   },
   "outputs": [
    {
     "data": {
      "image/png": "[encoded data removed]",
      "text/plain": [
       "<matplotlib.figure.Figure at 0x10d2a18d0>"
      ]
     },
     "metadata": {},
     "output_type": "display_data"
    }
   ],
   "source": [
    "# ## Implementing an adaptive linear neuron in Python\n",
    "\n",
    "\n",
    "class AdalineGD(object):\n",
    "    \"\"\"ADAptive LInear NEuron classifier.\n",
    "    Parameters\n",
    "    ------------\n",
    "    eta : float\n",
    "      Learning rate (between 0.0 and 1.0)\n",
    "    n_iter : int\n",
    "      Passes over the training dataset.\n",
    "    random_state : int\n",
    "      Random number generator seed for random weight\n",
    "      initialization.\n",
    "    Attributes\n",
    "    -----------\n",
    "    w_ : 1d-array\n",
    "      Weights after fitting.\n",
    "    cost_ : list\n",
    "      Sum-of-squares cost function value in each epoch.\n",
    "    \"\"\"\n",
    "    def __init__(self, eta=0.01, n_iter=50, random_state=1):\n",
    "        self.eta = eta\n",
    "        self.n_iter = n_iter\n",
    "        self.random_state = random_state\n",
    "\n",
    "    def fit(self, X, y):\n",
    "        \"\"\" Fit training data.\n",
    "        Parameters\n",
    "        ----------\n",
    "        X : {array-like}, shape = [n_samples, n_features]\n",
    "          Training vectors, where n_samples is the number of samples and\n",
    "          n_features is the number of features.\n",
    "        y : array-like, shape = [n_samples]\n",
    "          Target values.\n",
    "        Returns\n",
    "        -------\n",
    "        self : object\n",
    "        \"\"\"\n",
    "        rgen = np.random.RandomState(self.random_state)\n",
    "        self.w_ = rgen.normal(loc=0.0, scale=0.01, size=1 + X.shape[1])\n",
    "        self.cost_ = []\n",
    "\n",
    "        for i in range(self.n_iter):\n",
    "            net_input = self.net_input(X)\n",
    "            # Please note that the \"activation\" method has no effect\n",
    "            # in the code since it is simply an identity function. We\n",
    "            # could write `output = self.net_input(X)` directly instead.\n",
    "            # The purpose of the activation is more conceptual, i.e.,  \n",
    "            # in the case of logistic regression (as we will see later), \n",
    "            # we could change it to\n",
    "            # a sigmoid function to implement a logistic regression classifier.\n",
    "            output = self.activation(net_input)\n",
    "            errors = (y - output)\n",
    "            self.w_[1:] += self.eta * X.T.dot(errors)\n",
    "            self.w_[0] += self.eta * errors.sum()\n",
    "            cost = (errors**2).sum() / 2.0\n",
    "            self.cost_.append(cost)\n",
    "        return self\n",
    "\n",
    "    def net_input(self, X):\n",
    "        \"\"\"Calculate net input\"\"\"\n",
    "        return np.dot(X, self.w_[1:]) + self.w_[0]\n",
    "\n",
    "    def activation(self, X):\n",
    "        \"\"\"Compute linear activation\"\"\"\n",
    "        return X\n",
    "\n",
    "    def predict(self, X):\n",
    "        \"\"\"Return class label after unit step\"\"\"\n",
    "        return np.where(self.activation(self.net_input(X)) >= 0.0, 1, -1)\n",
    "\n",
    "\n",
    "\n",
    "\n",
    "fig, ax = plt.subplots(nrows=1, ncols=2, figsize=(10, 4))\n",
    "\n",
    "ada1 = AdalineGD(n_iter=10, eta=0.01).fit(X, y)\n",
    "ax[0].plot(range(1, len(ada1.cost_) + 1), np.log10(ada1.cost_), marker='o')\n",
    "ax[0].set_xlabel('Epochs')\n",
    "ax[0].set_ylabel('log(Sum-squared-error)')\n",
    "ax[0].set_title('Adaline - Learning rate 0.01')\n",
    "\n",
    "ada2 = AdalineGD(n_iter=10, eta=0.0001).fit(X, y)\n",
    "ax[1].plot(range(1, len(ada2.cost_) + 1), ada2.cost_, marker='o')\n",
    "ax[1].set_xlabel('Epochs')\n",
    "ax[1].set_ylabel('Sum-squared-error')\n",
    "ax[1].set_title('Adaline - Learning rate 0.0001')\n",
    "\n",
    "# plt.savefig('images/02_11.png', dpi=300)\n",
    "plt.show()\n"
   ]
  },
  {
   "cell_type": "code",
   "execution_count": 1,
   "metadata": {
    "collapsed": true
   },
   "outputs": [],
   "source": [
    "# 2.5.2 特徴量のスケーリングを通じて勾配降下法を改善する"
   ]
  },
  {
   "cell_type": "code",
   "execution_count": null,
   "metadata": {
    "collapsed": true
   },
   "outputs": [],
   "source": []
  }
 ],
 "metadata": {
  "kernelspec": {
   "display_name": "Python 3",
   "language": "python",
   "name": "python3"
  },
  "language_info": {
   "codemirror_mode": {
    "name": "ipython",
    "version": 3
   },
   "file_extension": ".py",
   "mimetype": "text/x-python",
   "name": "python",
   "nbconvert_exporter": "python",
   "pygments_lexer": "ipython3",
   "version": "3.5.1"
  }
 },
 "nbformat": 4,
 "nbformat_minor": 2
}
